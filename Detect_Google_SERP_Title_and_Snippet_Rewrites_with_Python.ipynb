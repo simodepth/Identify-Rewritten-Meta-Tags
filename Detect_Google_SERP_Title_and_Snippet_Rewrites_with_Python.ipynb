{
  "nbformat": 4,
  "nbformat_minor": 0,
  "metadata": {
    "colab": {
      "name": "Detect Google SERP Title and Snippet Rewrites with Python",
      "provenance": [],
      "collapsed_sections": [],
      "authorship_tag": "ABX9TyNRNF+GlO0xIz13b4H7hNut",
      "include_colab_link": true
    },
    "kernelspec": {
      "name": "python3",
      "display_name": "Python 3"
    },
    "language_info": {
      "name": "python"
    }
  },
  "cells": [
    {
      "cell_type": "markdown",
      "metadata": {
        "id": "view-in-github",
        "colab_type": "text"
      },
      "source": [
        "<a href=\"https://colab.research.google.com/github/simodepth/Identify-Rewritten-Meta-Tags/blob/main/Detect_Google_SERP_Title_and_Snippet_Rewrites_with_Python.ipynb\" target=\"_parent\"><img src=\"https://colab.research.google.com/assets/colab-badge.svg\" alt=\"Open In Colab\"/></a>"
      ]
    },
    {
      "cell_type": "markdown",
      "source": [
        "#Detect Google SERP Title and Snippet Rewrites with Python\n",
        "\n",
        "\n",
        "---\n",
        "\n",
        "Since August 2021 Google took over the Title tags rewriting based upon algorithmic measures. Although this is occasionally a fair move from the search engine to better match the search intent, most of the time it turns out as a proper curb to one's webpage visibility.\n",
        "\n",
        "Since the rewriting event, several interesting tools have been released by SEO Saas tools. Even though you don't want to bite the hand that's feeding you,  the trade-off in their usage is oftentimes due to discouraging fees which may prevent users from joining the platforms.  \n",
        "\n",
        "That is the reason behind this free Python framework, which is engineered to compare a fistful of page titles and meta descriptions to what is shown in the SERPs by using a Screaming Frog crawl and a free SERP API. \n"
      ],
      "metadata": {
        "id": "c4cUPTROBL6l"
      }
    },
    {
      "cell_type": "markdown",
      "source": [
        "#Heads up 🔴\n",
        "\n",
        "\n",
        "---\n",
        "\n",
        "Because the **SERP API grants 100 free search per month**, this framework is not recommended for those working with massive dataset/database.\n",
        "\n",
        "Even if you have resources for a higher plan, you’ll need to be careful which URLs you want to send in for analysis and how often.\n",
        "\n",
        "However, you can subscribe to one of the [ SERP API plan](https://serpapi.com/change-plan)"
      ],
      "metadata": {
        "id": "eX89mgSx24BW"
      }
    },
    {
      "cell_type": "markdown",
      "source": [
        "#Requirements & Assumptions\n",
        "\n",
        "\n",
        "---\n",
        "\n",
        "- [SERP API](https://serpapi.com/) key \n",
        "- Screaming Frog HTML crawl list or CSV with URLs"
      ],
      "metadata": {
        "id": "GB_IjppG3U_0"
      }
    },
    {
      "cell_type": "code",
      "execution_count": 12,
      "metadata": {
        "colab": {
          "base_uri": "https://localhost:8080/"
        },
        "id": "2tgBtIcxAY18",
        "outputId": "db962d6d-f471-4d38-ca8b-52e0949bd137"
      },
      "outputs": [
        {
          "output_type": "stream",
          "name": "stdout",
          "text": [
            "Looking in indexes: https://pypi.org/simple, https://us-python.pkg.dev/colab-wheels/public/simple/\n",
            "Requirement already satisfied: google-search-results in /usr/local/lib/python3.7/dist-packages (2.4.1)\n",
            "Requirement already satisfied: requests in /usr/local/lib/python3.7/dist-packages (from google-search-results) (2.23.0)\n",
            "Requirement already satisfied: urllib3!=1.25.0,!=1.25.1,<1.26,>=1.21.1 in /usr/local/lib/python3.7/dist-packages (from requests->google-search-results) (1.24.3)\n",
            "Requirement already satisfied: idna<3,>=2.5 in /usr/local/lib/python3.7/dist-packages (from requests->google-search-results) (2.10)\n",
            "Requirement already satisfied: certifi>=2017.4.17 in /usr/local/lib/python3.7/dist-packages (from requests->google-search-results) (2022.6.15)\n",
            "Requirement already satisfied: chardet<4,>=3.0.2 in /usr/local/lib/python3.7/dist-packages (from requests->google-search-results) (3.0.4)\n",
            "Looking in indexes: https://pypi.org/simple, https://us-python.pkg.dev/colab-wheels/public/simple/\n",
            "Requirement already satisfied: polyfuzz in /usr/local/lib/python3.7/dist-packages (0.4.0)\n",
            "Requirement already satisfied: scikit-learn>=0.22.2.post1 in /usr/local/lib/python3.7/dist-packages (from polyfuzz) (1.0.2)\n",
            "Requirement already satisfied: scipy>=1.3.1 in /usr/local/lib/python3.7/dist-packages (from polyfuzz) (1.4.1)\n",
            "Requirement already satisfied: rapidfuzz>=0.13.1 in /usr/local/lib/python3.7/dist-packages (from polyfuzz) (2.0.13)\n",
            "Requirement already satisfied: matplotlib>=3.2.2 in /usr/local/lib/python3.7/dist-packages (from polyfuzz) (3.2.2)\n",
            "Requirement already satisfied: seaborn>=0.11.0 in /usr/local/lib/python3.7/dist-packages (from polyfuzz) (0.11.2)\n",
            "Requirement already satisfied: joblib>=0.14.0 in /usr/local/lib/python3.7/dist-packages (from polyfuzz) (1.1.0)\n",
            "Requirement already satisfied: numpy>=1.20.0 in /usr/local/lib/python3.7/dist-packages (from polyfuzz) (1.21.6)\n",
            "Requirement already satisfied: pandas>=0.25.3 in /usr/local/lib/python3.7/dist-packages (from polyfuzz) (1.3.5)\n",
            "Requirement already satisfied: tqdm>=4.41.1 in /usr/local/lib/python3.7/dist-packages (from polyfuzz) (4.64.0)\n",
            "Requirement already satisfied: cycler>=0.10 in /usr/local/lib/python3.7/dist-packages (from matplotlib>=3.2.2->polyfuzz) (0.11.0)\n",
            "Requirement already satisfied: python-dateutil>=2.1 in /usr/local/lib/python3.7/dist-packages (from matplotlib>=3.2.2->polyfuzz) (2.8.2)\n",
            "Requirement already satisfied: pyparsing!=2.0.4,!=2.1.2,!=2.1.6,>=2.0.1 in /usr/local/lib/python3.7/dist-packages (from matplotlib>=3.2.2->polyfuzz) (3.0.9)\n",
            "Requirement already satisfied: kiwisolver>=1.0.1 in /usr/local/lib/python3.7/dist-packages (from matplotlib>=3.2.2->polyfuzz) (1.4.3)\n",
            "Requirement already satisfied: typing-extensions in /usr/local/lib/python3.7/dist-packages (from kiwisolver>=1.0.1->matplotlib>=3.2.2->polyfuzz) (4.1.1)\n",
            "Requirement already satisfied: pytz>=2017.3 in /usr/local/lib/python3.7/dist-packages (from pandas>=0.25.3->polyfuzz) (2022.1)\n",
            "Requirement already satisfied: six>=1.5 in /usr/local/lib/python3.7/dist-packages (from python-dateutil>=2.1->matplotlib>=3.2.2->polyfuzz) (1.15.0)\n",
            "Requirement already satisfied: jarowinkler<1.1.0,>=1.0.3 in /usr/local/lib/python3.7/dist-packages (from rapidfuzz>=0.13.1->polyfuzz) (1.0.4)\n",
            "Requirement already satisfied: threadpoolctl>=2.0.0 in /usr/local/lib/python3.7/dist-packages (from scikit-learn>=0.22.2.post1->polyfuzz) (3.1.0)\n"
          ]
        }
      ],
      "source": [
        "#remember to add an exclamation mark at the beginning if you're using Colab\n",
        "!pip install google-search-results\n",
        "!pip install polyfuzz"
      ]
    },
    {
      "cell_type": "code",
      "source": [
        "import pandas as pd\n",
        "from serpapi import GoogleSearch\n",
        "from polyfuzz import PolyFuzz #this is to calculate the comparison similarity scores"
      ],
      "metadata": {
        "id": "ifa0DxGS4MKD"
      },
      "execution_count": 13,
      "outputs": []
    },
    {
      "cell_type": "markdown",
      "source": [
        "##Import the crawl CSV into a pandas dataframe\n",
        "\n",
        "\n",
        "---\n",
        "\n",
        "You’ll notice a **comment hashmark #** at the end of the read_csv function.\n",
        "\n",
        "**If you want to test the script using a small subset of URLs, remove the hashmark and change the number to the number of URLs you want to process**.\n",
        "\n",
        "This can save you from blowing your entire API credits in one go."
      ],
      "metadata": {
        "id": "Mj6qI6Ta45N0"
      }
    },
    {
      "cell_type": "code",
      "source": [
        "df = pd.read_csv(\"/content/my.internal_html.csv\")[[\"Address\",\"Indexability\",\"Title 1\",\"Meta Description 1\",\"H1-1\"]] #[:5] \n",
        "\n",
        "df = df[df[\"Indexability\"] == \"Indexable\"] #filter out rows that aren't marked as \"indexable\"\n",
        "df = df.fillna('None') #Replace NaN (no value) values with a string. This is needed for comparison processing.\n",
        "df.drop(['Indexability'], axis=1, inplace=True) #drop out the Indexability column as we've already filtered it out\n",
        "df[\"Meta Description 1\"] = df[\"Meta Description 1\"].apply(lambda x: x[:150]) #many meta descriptions are more characters than what is displayed in the SERPs, therefore we need to cap the number of characters to 150 to get a better idea of total rewrites"
      ],
      "metadata": {
        "id": "t79raiqrBksk"
      },
      "execution_count": 14,
      "outputs": []
    },
    {
      "cell_type": "code",
      "source": [
        "#@title Create 4 empty lists to store data\n",
        "serp_title_list = []\n",
        "serp_desc_list = []\n",
        "serp_title_list_diff = []\n",
        "serp_desc_list_diff = []"
      ],
      "metadata": {
        "id": "bRxETzKRuUIm"
      },
      "execution_count": 15,
      "outputs": []
    },
    {
      "cell_type": "code",
      "source": [
        "#@title Send each URLs to the SERP API\n",
        "#Loop through the crawled list of URLs to send each of them to the API, which will make a query the title and meta description snippet\n",
        "for index, row in df.iterrows():\n",
        "\n",
        "  params = {\n",
        "    \"q\": row[\"Address\"],\n",
        "    \"hl\": \"en\", #make sure you set up the **language** required for the output\n",
        "    \"gl\": \"gb\", #make sure you set up the **location** required for the output\n",
        "    \"api_key\": \"db57459f1cd2ae0182a0c4684b999ca261a278a98a16398295181c8b699c4da4\"\n",
        "  }\n",
        "\n",
        "  search = GoogleSearch(params)\n",
        "  results = search.get_dict()\n",
        "\n",
        "  serp_title = results[\"organic_results\"][0][\"title\"]\n",
        "  serp_desc = results[\"organic_results\"][0][\"snippet\"][:150]\n",
        "\n",
        "  serp_title_list.append(serp_title)\n",
        "  serp_desc_list.append(serp_desc)"
      ],
      "metadata": {
        "colab": {
          "base_uri": "https://localhost:8080/"
        },
        "id": "eL01dJ5puUMB",
        "outputId": "54a756e0-5a59-4a70-a2ae-6516dd97cfc3"
      },
      "execution_count": 16,
      "outputs": [
        {
          "output_type": "stream",
          "name": "stdout",
          "text": [
            "https://serpapi.com/search\n",
            "https://serpapi.com/search\n",
            "https://serpapi.com/search\n",
            "https://serpapi.com/search\n",
            "https://serpapi.com/search\n",
            "https://serpapi.com/search\n",
            "https://serpapi.com/search\n",
            "https://serpapi.com/search\n",
            "https://serpapi.com/search\n"
          ]
        }
      ]
    },
    {
      "cell_type": "code",
      "source": [
        "#@title Add the obtained titles and meta snippets to our dataframe\n",
        "df[\"SERP Title\"] = serp_title_list\n",
        "df[\"SERP Meta\"] = serp_desc_list"
      ],
      "metadata": {
        "id": "UvDQlgGkupwQ"
      },
      "execution_count": 17,
      "outputs": []
    },
    {
      "cell_type": "markdown",
      "source": [
        "##Calculate a similarity score with Polyfuzz\n",
        "\n",
        "\n",
        "---\n",
        "\n",
        "This calculates the accuracy level in which both the original title tags and meta descriptions match with their factual SERP counterpart.\n",
        "\n",
        "**The scores range 0-1 with 1 being the perfect match**. \n"
      ],
      "metadata": {
        "id": "SsCm8i_0-75A"
      }
    },
    {
      "cell_type": "code",
      "source": [
        "model = PolyFuzz(\"EditDistance\")\n",
        "model.match(serp_title_list, df[\"Title 1\"].tolist())\n",
        "df2 = model.get_matches()\n",
        "\n",
        "model.match(serp_desc_list, df[\"Meta Description 1\"].tolist())\n",
        "df3 = model.get_matches()\n",
        "\n",
        "model.match(serp_title_list, df[\"H1-1\"].tolist())\n",
        "df4 = model.get_matches()"
      ],
      "metadata": {
        "id": "oAhVQJUWupz0"
      },
      "execution_count": 19,
      "outputs": []
    },
    {
      "cell_type": "code",
      "source": [
        "#@title Import those similarity scores into a list\n",
        "df[\"SERP Title Accuracy Level\"] = df2[\"Similarity\"].tolist()\n",
        "df[\"SERP Meta Accuracy Level\"] = df3[\"Similarity\"].tolist()\n",
        "df[\"SERP H1 Accuracy Level\"] = df4[\"Similarity\"].tolist()"
      ],
      "metadata": {
        "id": "omqsDLVtu9-d"
      },
      "execution_count": 20,
      "outputs": []
    },
    {
      "cell_type": "code",
      "source": [
        "#@title Let's make a little bit of Formatting\n",
        "df = df.sort_values(by='SERP Title Accuracy Level', ascending=True) #Sort by SERP title difference descending\n",
        "df[\"SERP Title Accuracy Level\"] = df[\"SERP Title Accuracy Level\"].round(3) #Round the similarity scores for each to 3 places\n",
        "df[\"SERP Meta Accuracy Level\"] = df[\"SERP Meta Accuracy Level\"].round(3)\n",
        "df[\"SERP H1 Accuracy Level\"] = df[\"SERP H1 Accuracy Level\"].round(3)"
      ],
      "metadata": {
        "id": "mK662AGbu-Gs"
      },
      "execution_count": 21,
      "outputs": []
    },
    {
      "cell_type": "code",
      "source": [
        "#df --> if you only want the output and NOT to download the results\n",
        "df.to_csv(\"title-snippet-rewrites.csv\")"
      ],
      "metadata": {
        "id": "UsJdGqMvvIOL"
      },
      "execution_count": 23,
      "outputs": []
    },
    {
      "cell_type": "markdown",
      "source": [
        "![image.png](data:image/png;base64,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)"
      ],
      "metadata": {
        "id": "AYzjjXpFCuOB"
      }
    }
  ]
}